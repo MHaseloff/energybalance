{
 "cells": [
  {
   "cell_type": "code",
   "execution_count": 1,
   "metadata": {},
   "outputs": [
    {
     "data": {
      "text/html": [
       "\n",
       "<style>\n",
       "#notebook-container{\n",
       "    box-shadow: none !important;\n",
       "}\n",
       "\n",
       ".body {\n",
       "    max-width: 960px !important;\n",
       "}\n",
       "\n",
       ".container {\n",
       "    max-width: 960px !important;\n",
       "}\n",
       "\n",
       ".notebook_app {\n",
       "    background: #fff !important;\n",
       "}\n",
       "\n",
       ".navbar-default {\n",
       "    background: none;\n",
       "    border: none;\n",
       "}\n",
       "\n",
       ".navbar-default .navbar-nav > li > a:hover, #kernel_indicator:hover {\n",
       "    border-bottom: 2px solid #fff;\n",
       "    color: rgba(255, 255, 255, 1);\n",
       "}\n",
       "\n",
       "div.input_area {\n",
       "    border: none;\n",
       "    border-radius: 0;\n",
       "    background: #f7f7f7;\n",
       "    line-height: 1.5em;\n",
       "    margin: 0.5em 0;\n",
       "    padding: 0;\n",
       "    max-width: 960px !important;\n",
       "}\n",
       "\n",
       "div.cell {\n",
       "    transition: all 0.25s;\n",
       "    border: none;\n",
       "    position: relative;\n",
       "    top: 0;\n",
       "    max-width: 960px !important;\n",
       "}\n",
       "\n",
       "div.cell.selected, div.cell.selected.jupyter-soft-selected {\n",
       "    border: none;\n",
       "    background: transparent;\n",
       "    box-shadow: 0 6px 18px #aaa;\n",
       "    z-index: 10;\n",
       "    top: -10px;\n",
       "    max-width: 960px !important;\n",
       "}\n",
       "\n",
       "\n",
       "div#pager {\n",
       "    opacity: 0.85;\n",
       "    z-index: 9999;\n",
       "    max-width: 960px !important;\n",
       "}\n",
       "\n",
       ".navbar-default .navbar-nav > .open > a, .navbar-default .navbar-nav > .open > a:hover, .navbar-default .navbar-nav > .open > a:focus {\n",
       "    color: #fff;\n",
       "    background-color: transparent;\n",
       "    border-bottom: 2px solid #fff;\n",
       "}\n",
       "\n",
       ".dropdown-menu {\n",
       "    z-index: 999999 !important;\n",
       "    opacity: 0.95;\n",
       "    max-width: 960px !important;\n",
       "}\n",
       "\n",
       ".dropdown-menu > li > a {\n",
       "    color: #fff;\n",
       "}\n",
       "\n",
       ".dropdown-menu > .disabled > a, .dropdown-menu > .disabled > a:hover, .dropdown-menu > .disabled > a:focus {\n",
       "    color: rgba(255, 255, 255, 0.25);\n",
       "}\n",
       "\n",
       ".navbar-nav > li > .dropdown-menu {\n",
       "    border: none;\n",
       "    box-shadow: none;\n",
       "}\n",
       "\n",
       "div.output_wrapper {\n",
       "    background: #fff;\n",
       "}\n",
       "\n",
       "div.cell.selected .div.output_scroll {\n",
       "    box-shadow: none;\n",
       "    max-width: 960px !important;\n",
       "}\n",
       "\n",
       "div.output_wrapper {\n",
       "    margin: 0 0 1em;\n",
       "    transition: all 0.25s;\n",
       "    max-width: 960px !important;\n",
       "}\n",
       "\n",
       "div.cell.selected .output_wrapper {\n",
       "    margin: 0;\n",
       "}\n",
       "\n",
       ".dataframe {\n",
       "    background: #fff;\n",
       "    box-shadow: 0px 1px 2px #bbb;\n",
       "}\n",
       "\n",
       ".dataframe thead th, .dataframe tbody td {\n",
       "    text-align: right;\n",
       "    padding: 1em;\n",
       "}\n",
       "\n",
       ".output, div.output_scroll {\n",
       "    box-shadow: none;\n",
       "}\n",
       "\n",
       ".rendered_html pre code {\n",
       "    background: #f4f4f4;\n",
       "    border: 1px solid #ddd;\n",
       "    border-left: 3px solid #2a7bbd;\n",
       "    color: #444;\n",
       "    page-break-inside: avoid;\n",
       "    font-family: monospace;\n",
       "    font-size: 15px;\n",
       "    line-height: 1.6;\n",
       "    margin-bottom: 1.6em;\n",
       "    max-width: 100%;\n",
       "    overflow: auto;\n",
       "    padding: 1em 1.5em;\n",
       "    display: block;\n",
       "    word-wrap: break-word;\n",
       "}\n",
       "\n",
       "h1, .h1 {\n",
       "    font-size: 33px;\n",
       "    font-family: \"Trebuchet MS\";\n",
       "    font-size: 2.5em !important;\n",
       "    color: #2a7bbd;\n",
       "}\n",
       "</style>\n"
      ],
      "text/plain": [
       "<IPython.core.display.HTML object>"
      ]
     },
     "execution_count": 1,
     "metadata": {},
     "output_type": "execute_result"
    }
   ],
   "source": [
    "# Importing the packages we will need\n",
    "from __future__ import print_function\n",
    "from __future__ import division\n",
    "from IPython.core.display import HTML\n",
    "from IPython.display import display, clear_output, FileLink\n",
    "from ipywidgets import Button, Layout, GridBox, ButtonStyle, HBox, VBox, Label, Dropdown\n",
    "from ipywidgets import interact, interactive, fixed, interact_manual\n",
    "from IPython.core.display import display, HTML\n",
    "\n",
    "import ipywidgets as ipw\n",
    "%matplotlib inline\n",
    "import pandas as pd\n",
    "import math\n",
    "import numpy as np\n",
    "import xlrd\n",
    "import xlsxwriter\n",
    "import os.path\n",
    "import glob\n",
    "import warnings\n",
    "import platform\n",
    "\n",
    "HTML(\"\"\"\n",
    "<style>\n",
    "#notebook-container{\n",
    "    box-shadow: none !important;\n",
    "}\n",
    "\n",
    ".body {\n",
    "    max-width: 960px !important;\n",
    "}\n",
    "\n",
    ".container {\n",
    "    max-width: 960px !important;\n",
    "}\n",
    "\n",
    ".notebook_app {\n",
    "    background: #fff !important;\n",
    "}\n",
    "\n",
    ".navbar-default {\n",
    "    background: none;\n",
    "    border: none;\n",
    "}\n",
    "\n",
    ".navbar-default .navbar-nav > li > a:hover, #kernel_indicator:hover {\n",
    "    border-bottom: 2px solid #fff;\n",
    "    color: rgba(255, 255, 255, 1);\n",
    "}\n",
    "\n",
    "div.input_area {\n",
    "    border: none;\n",
    "    border-radius: 0;\n",
    "    background: #f7f7f7;\n",
    "    line-height: 1.5em;\n",
    "    margin: 0.5em 0;\n",
    "    padding: 0;\n",
    "    max-width: 960px !important;\n",
    "}\n",
    "\n",
    "div.cell {\n",
    "    transition: all 0.25s;\n",
    "    border: none;\n",
    "    position: relative;\n",
    "    top: 0;\n",
    "    max-width: 960px !important;\n",
    "}\n",
    "\n",
    "div.cell.selected, div.cell.selected.jupyter-soft-selected {\n",
    "    border: none;\n",
    "    background: transparent;\n",
    "    box-shadow: 0 6px 18px #aaa;\n",
    "    z-index: 10;\n",
    "    top: -10px;\n",
    "    max-width: 960px !important;\n",
    "}\n",
    "\n",
    "\n",
    "div#pager {\n",
    "    opacity: 0.85;\n",
    "    z-index: 9999;\n",
    "    max-width: 960px !important;\n",
    "}\n",
    "\n",
    ".navbar-default .navbar-nav > .open > a, .navbar-default .navbar-nav > .open > a:hover, .navbar-default .navbar-nav > .open > a:focus {\n",
    "    color: #fff;\n",
    "    background-color: transparent;\n",
    "    border-bottom: 2px solid #fff;\n",
    "}\n",
    "\n",
    ".dropdown-menu {\n",
    "    z-index: 999999 !important;\n",
    "    opacity: 0.95;\n",
    "    max-width: 960px !important;\n",
    "}\n",
    "\n",
    ".dropdown-menu > li > a {\n",
    "    color: #fff;\n",
    "}\n",
    "\n",
    ".dropdown-menu > .disabled > a, .dropdown-menu > .disabled > a:hover, .dropdown-menu > .disabled > a:focus {\n",
    "    color: rgba(255, 255, 255, 0.25);\n",
    "}\n",
    "\n",
    ".navbar-nav > li > .dropdown-menu {\n",
    "    border: none;\n",
    "    box-shadow: none;\n",
    "}\n",
    "\n",
    "div.output_wrapper {\n",
    "    background: #fff;\n",
    "}\n",
    "\n",
    "div.cell.selected .div.output_scroll {\n",
    "    box-shadow: none;\n",
    "    max-width: 960px !important;\n",
    "}\n",
    "\n",
    "div.output_wrapper {\n",
    "    margin: 0 0 1em;\n",
    "    transition: all 0.25s;\n",
    "    max-width: 960px !important;\n",
    "}\n",
    "\n",
    "div.cell.selected .output_wrapper {\n",
    "    margin: 0;\n",
    "}\n",
    "\n",
    ".dataframe {\n",
    "    background: #fff;\n",
    "    box-shadow: 0px 1px 2px #bbb;\n",
    "}\n",
    "\n",
    ".dataframe thead th, .dataframe tbody td {\n",
    "    text-align: right;\n",
    "    padding: 1em;\n",
    "}\n",
    "\n",
    ".output, div.output_scroll {\n",
    "    box-shadow: none;\n",
    "}\n",
    "\n",
    ".rendered_html pre code {\n",
    "    background: #f4f4f4;\n",
    "    border: 1px solid #ddd;\n",
    "    border-left: 3px solid #2a7bbd;\n",
    "    color: #444;\n",
    "    page-break-inside: avoid;\n",
    "    font-family: monospace;\n",
    "    font-size: 15px;\n",
    "    line-height: 1.6;\n",
    "    margin-bottom: 1.6em;\n",
    "    max-width: 100%;\n",
    "    overflow: auto;\n",
    "    padding: 1em 1.5em;\n",
    "    display: block;\n",
    "    word-wrap: break-word;\n",
    "}\n",
    "\n",
    "h1, .h1 {\n",
    "    font-size: 33px;\n",
    "    font-family: \"Trebuchet MS\";\n",
    "    font-size: 2.5em !important;\n",
    "    color: #2a7bbd;\n",
    "}\n",
    "</style>\n",
    "\"\"\")"
   ]
  },
  {
   "cell_type": "code",
   "execution_count": 3,
   "metadata": {},
   "outputs": [
    {
     "name": "stdout",
     "output_type": "stream",
     "text": [
      "Python is running, Python version is \n",
      "3.7.4\n",
      "App version 0.10.2\n"
     ]
    }
   ],
   "source": [
    "print('Python is running, Python version is ')\n",
    "print(platform.python_version())\n",
    "print('App version 0.10.2, author Marianne Haseloff')"
   ]
  },
  {
   "cell_type": "markdown",
   "metadata": {
    "extensions": {
     "jupyter_dashboards": {
      "version": 1,
      "views": {
       "grid_default": {
        "col": 0,
        "height": 29,
        "hidden": false,
        "row": 0,
        "width": "960px"
       },
       "report_default": {
        "col": 0,
        "height": 10,
        "hidden": false,
        "row": 0,
        "width": 8
       }
      }
     }
    }
   },
   "source": [
    "<div class=\"body\">\n",
    "This practical uses a full energy balance model to estimate glacier surface melt. The model is fully described by Brock and Arnold (2000); electronic copies of Earth Surface Processes and Landforms are available online (<a href=\"https://doi.org/10.1002/1096-9837(200006)25:6<649::AID-ESP97>3.0.CO;2-U\">link to paper</a>).\n",
    "\n",
    "When using this model it is useful to know the following:\n",
    "\n",
    "<ul>\n",
    "<li> Aspect of a slope is measured as degrees away from due North (i.e., <b>a North-facing glacier has aspect 0 degrees, and a South-facing glacier has aspect 180 degrees</b>) </li>\n",
    "<li> All fluxes are considered positive when directed towards the surface </li>\n",
    "<li> Fluxes are evaluated in SI units (W m$^{-2}$), BUT hourly totals of individual fluxes (SW, LW, sensible heat and latent heat) are outputted in mm of water equivalent (mm w.e.) </li>\n",
    "<li> Consequently individual hourly fluxes may be negative, BUT negative fluxes in mm w.e. do not mean an increase in glacier ice, rather this just an intermediary calculation towards total melt (MLT) </li>\n",
    "<li> Solheimajokull is located at 63.5 N and 19.5 W</li>\n",
    "<li> On 26-27 June sunrise is ~3 am and sunset is ~11.30 pm</li>\n",
    "</ul>\n",
    "\n",
    "The model is completely contained in the web app. To run it, enter suitable values for <B>albedo, aspect, roughness, and slope</B> of the glacier below, and click on the button \"Run the model\". A link to a downloadable .xlsx spreadsheet will appear when the model is done, clicking on this link will download the model. The spreadsheet contains both the model inputs and the model outputs.</div>"
   ]
  },
  {
   "cell_type": "markdown",
   "metadata": {
    "extensions": {
     "jupyter_dashboards": {
      "version": 1,
      "views": {
       "grid_default": {
        "col": 0,
        "height": 15,
        "hidden": false,
        "row": 29,
        "width": "960px"
       },
       "report_default": {
        "col": 0,
        "height": 4,
        "hidden": false,
        "row": 10,
        "width": 4
       }
      }
     }
    }
   },
   "source": [
    "<h3> Model inputs consist of: </h3>\n",
    "<ol><li><h4> a list of site details (provided by the user):</h4>\n",
    "    <ul>\n",
    "    <li> <B>Latitude (deg)</B> (cell A13 of the output file) </li>\n",
    "    <li> <B>Longitude (deg)</B> (cell A15 of the output file)</li>\n",
    "    <li> <B>Slope (deg)</B> (cell A17 of the output file)</li>\n",
    "    <li> <B>Aspect (deg)</B> (cell A19 of the output file)</li>\n",
    "    <li> <B>Elevation (m)</B> (cell A21 of the output file)</li>\n",
    "    <li> <B>Albedo</B> (cell A23 of the output file) </li>\n",
    "    <li> <B>Roughness (m)</B> (cell A25 of the output file)</li>\n",
    "    <li> <B>Lapse rate (degrees/m)</B> (cell A29 of the output file)</li>\n",
    "    </ul></li>\n",
    "    <li><h4> a timeseries of observations (provided with the model)</h4>\n",
    "    <ul>\n",
    "    <li> <B>Day</B> (column F of the output file)</li>\n",
    "    <li> <B>Time</B> (column G of the output file)</li>\n",
    "    <li> <B>Decimal Time</B> (column H of the output file)</li>\n",
    "    <li> <B>Incoming SW (W/m$^2$) </B> (column I of the output file)</li>\n",
    "    <li> <B>Vapour pressure (Pa)</B>  (column J of the output file)</li>\n",
    "    <li> <B>Air temperature (°C)</B>  (column K of the output file)</li>\n",
    "    <li> <B>Wind Speed (m/s)</B>  (column L of the output file)</li>\n",
    "    </ul></li>\n",
    "</ol>"
   ]
  },
  {
   "cell_type": "code",
   "execution_count": 4,
   "metadata": {
    "extensions": {
     "jupyter_dashboards": {
      "version": 1,
      "views": {
       "grid_default": {
        "col": 6,
        "height": 15,
        "hidden": false,
        "row": 29,
        "width": "960px"
       },
       "report_default": {
        "col": 4,
        "height": 4,
        "hidden": false,
        "row": 10,
        "width": 4
       }
      }
     }
    }
   },
   "outputs": [],
   "source": [
    "# Defining a function plot that plots y against x and creates labels\n",
    "def plot(x, y, ax, title, y_label):\n",
    "    ax.set_title(title)\n",
    "    ax.set_ylabel(y_label)\n",
    "    ax.plot(x, y)\n",
    "    ax.margins(x=0, y=0)\n",
    "    \n",
    "def read_data():\n",
    "    \n",
    "    # Reading the meteorological data file \n",
    "    # df = pd.read_excel('/ml_blob_storage/Samplmet.xls')\n",
    "    \n",
    "    # Load data\n",
    "    try:\n",
    "        # You need to use \"/ml_blob_storage\" as a mount path to mount Azure Storage\n",
    "        # in Azure Web App configuration\n",
    "        df = pd.read_excel('https://www.dropbox.com/s/p6stvf969iuee5f/Samplmet.xls?dl=1')  # This path is used to load data for web app\n",
    "    except FileNotFoundError:\n",
    "        # local (on Azure Machine Learning) data file structure:\n",
    "        # process_data.ipynb\n",
    "        # |-- data /\n",
    "        # |   |-- data_for_plots.pkl\n",
    "        # |-- dashbaord /\n",
    "        # |   |-- dashboard.ipynb\n",
    "        # |   |-- Dockerfile\n",
    "        # |   |-- requirements.txt\n",
    "        df = pd.read_excel(\"./Samplmet.xls\")  # This path is used to load data while working in AMLS environment\n",
    "\n",
    "    # Renaming the columns \n",
    "    df.columns = ['day', 'time', 'inswrad', 'avp', 'airtemp','windspd']\n",
    "\n",
    "    df['day'] = df['day'].astype(float)\n",
    "    df['time'] = df['time'].astype(float)\n",
    "    df['inswrad'] = df['inswrad'].astype(float)\n",
    "    df['avp'] = df['avp'].astype(float)\n",
    "    df['airtemp'] = df['airtemp'].astype(float)\n",
    "    df['windspd'] = df['windspd'].astype(float)\n",
    "    \n",
    "    return df"
   ]
  },
  {
   "cell_type": "code",
   "execution_count": 5,
   "metadata": {
    "extensions": {
     "jupyter_dashboards": {
      "version": 1,
      "views": {
       "grid_default": {
        "col": 6,
        "height": 15,
        "hidden": false,
        "row": 29,
        "width": "960px"
       },
       "report_default": {
        "col": 4,
        "height": 4,
        "hidden": false,
        "row": 10,
        "width": 4
       }
      }
     }
    }
   },
   "outputs": [],
   "source": [
    "def calcule_swr(slope,aspect,albedo,lat,long,elevation,lapse_rate,ref_long,summertime,met_stat_elevation,df):\n",
    "\n",
    "    time_array = np.asarray(df.time)\n",
    "    day_array  = np.asarray(df.day)\n",
    "    inswrad_array = np.asarray(df.inswrad)\n",
    "\n",
    "    dayangle= (day_array/365.25)*360\n",
    "    eq_time = -0.128*np.sin( (dayangle-2.8)*math.pi/180 ) - 0.165*np.sin( (2*dayangle+19.7) * math.pi/180 )\n",
    "    solhour = time_array/100 + (long - ref_long)/15 + eq_time - summertime\n",
    "    c_1     = -23.2559 * np.cos( 2*math.pi*day_array/365 + 0.1582 )\n",
    "    c_2     = -0.3915  * np.cos( 4*math.pi*day_array/365 + 0.0934 )\n",
    "    c_3     = -0.1764  * np.cos( 6*math.pi*day_array/365 + 0.4539 )\n",
    "    soldec  = 0.3948 + c_1 + c_2 + c_3\n",
    "    solhran = 15 * ( solhour-12 )\n",
    "    solaltr = np.arcsin( np.sin(lat*math.pi/180) * np.sin(soldec*math.pi/180) + np.cos(lat*math.pi/180) * np.cos(soldec*math.pi/180) * np.cos(solhran*math.pi/180) )\n",
    "    solaltd = solaltr*180/math.pi\n",
    "    cossolaz= np.sin(lat*math.pi/180) * np.sin(solaltr) - np.sin(soldec*math.pi/180) / ( np.cos(lat*math.pi/180)*np.cos(solaltr) )\n",
    "    sinsolaz= np.cos(soldec*math.pi/180) * np.sin(solhran*math.pi/180) / np.cos(solaltr)\n",
    "    solaz   = np.array([-np.arccos(cossolaz[i]) if value<0 else np.arccos(cossolaz[i]) for i,value in enumerate(sinsolaz)])\n",
    "    solaz360= np.array(solaz) * 180/math.pi + 180\n",
    "    cloudn  = 1-(inswrad_array/( 1368 * 0.75**(100000/(100000-elevation*10)) * np.cos(1.57-solaltr) )) #not sure this is correct\n",
    "    cloudn  = np.array([1 if x>1 else x for x in cloudn])\n",
    "    cloudn  = np.array([0 if x<0 else x for x in cloudn])\n",
    "    diffuser= np.array([0.8 if x>0.8 else 0.65*x+0.15 for x in cloudn])\n",
    "    directr = 1 - diffuser\n",
    "    Qnormal = directr * inswrad_array/np.sin(solaltr)\n",
    "    Qin     = Qnormal * ( np.sin(solaltr) * np.cos(slope*math.pi/180) + np.cos(solaltr) * np.sin(slope*math.pi/180) * np.cos(solaz-aspect*math.pi/180) )\n",
    "    Q_SWR_SI= (1-albedo)*Qin +  (1-albedo)*diffuser*( inswrad_array * np.cos(slope*math.pi/180/2)**2 + albedo*np.sin(slope*math.pi/180/2)**2 )\n",
    "    swr_array = Q_SWR_SI*0.0107784\n",
    "    swr_array = np.array([0 if x<0 else x for x in swr_array])\n",
    "\n",
    "    return swr_array, cloudn"
   ]
  },
  {
   "cell_type": "code",
   "execution_count": 6,
   "metadata": {
    "extensions": {
     "jupyter_dashboards": {
      "version": 1,
      "views": {
       "grid_default": {
        "col": 6,
        "height": 15,
        "hidden": false,
        "row": 29,
        "width": "960px"
       },
       "report_default": {
        "col": 4,
        "height": 4,
        "hidden": false,
        "row": 10,
        "width": 4
       }
      }
     }
    }
   },
   "outputs": [],
   "source": [
    "def calcule_lwr(slope,aspect,albedo,lat,long,elevation,lapse_rate,ref_long,summertime,met_stat_elevation,df,cloudn):\n",
    "\n",
    "    time_array = np.asarray(df.time)\n",
    "    day_array  = np.asarray(df.day)\n",
    "    inswrad_array = np.asarray(df.inswrad)\n",
    "    airtemp_array = np.asarray(df.airtemp)\n",
    "    \n",
    "    eo     = 8.733 * 0.001* ( airtemp_array - lapse_rate*(elevation-met_stat_elevation) + 273.16)**0.788   \n",
    "    e_star = ( 1 + (0.26* np.array([0 if x<0 else x for x in cloudn]) ) ) * eo\n",
    "    lwin   = e_star * (5.7*(10**(-8)))*(((airtemp_array-(lapse_rate*(elevation-met_stat_elevation)))+273.16)**4)\n",
    "    lwout  = 316\n",
    "    lw_SI  = lwin-lwout\n",
    "        \n",
    "    lwr_array = lw_SI*0.0107784   \n",
    "        \n",
    "    return lwr_array"
   ]
  },
  {
   "cell_type": "code",
   "execution_count": 7,
   "metadata": {
    "extensions": {
     "jupyter_dashboards": {
      "version": 1,
      "views": {
       "grid_default": {
        "col": 6,
        "height": 15,
        "hidden": false,
        "row": 29,
        "width": "960px"
       },
       "report_default": {
        "col": 4,
        "height": 4,
        "hidden": false,
        "row": 10,
        "width": 4
       }
      }
     }
    }
   },
   "outputs": [],
   "source": [
    "def calculat_turb_flx(slope,aspect,roughness,lat,long,elevation,lapse_rate,ref_long,summertime,met_stat_elevation,df,cloudn):\n",
    "    warnings.filterwarnings(\"ignore\")\n",
    "    \n",
    "    atmpress=100000*(1-elevation*0.0001)\n",
    "    \n",
    "    time_array = np.asarray(df.time)\n",
    "    day_array  = np.asarray(df.day)\n",
    "    avp_array  = np.asarray(df.avp)\n",
    "    inswrad_array = np.asarray(df.inswrad)\n",
    "    airtemp_array = np.asarray(df.airtemp)\n",
    "    windspd_array = np.asarray(df.windspd)\n",
    "    \n",
    "    de = avp_array - 45*( elevation-met_stat_elevation)*lapse_rate - 610.8\n",
    "    spehum = avp_array/atmpress\n",
    "    spehtair = 1004.67 * ( 1 + 0.84*spehum )\n",
    "    \n",
    "    z_L = 0.2 * airtemp_array\n",
    "    Qs_old = spehtair\n",
    "    \n",
    "    diff=10\n",
    "    k=0\n",
    "    \n",
    "    while (diff>1e-3 and k<100):    \n",
    "        u_star  =(0.4*windspd_array)/((np.log(2/roughness)) + 5*z_L )\n",
    "        Re_star = u_star*roughness /0.00001461\n",
    "        ln_zt   = np.log(roughness) + 0.317 - 0.565*np.log(Re_star) - 0.183*((np.log(Re_star))**2)\n",
    "        ln_ze   = np.log(roughness)+0.396-(0.512*np.log(Re_star))-(0.18 *((np.log(Re_star))**2))\n",
    "\n",
    "        Qs_SI   = (1.225*spehtair*0.16*windspd_array*(airtemp_array-(lapse_rate*(elevation-met_stat_elevation))))/(((np.log(2/roughness))+(5*(z_L)))*(((np.log(2))-ln_zt)+(5*(z_L))))\n",
    "        Ql_SI   = (1.225*0.622*2500000*0.16*windspd_array*(de/atmpress))/(((np.log(2/roughness))+(5*(z_L)))*(((np.log(2))-ln_ze)+(5*(z_L))))\n",
    "        \n",
    "        Qs_SI = np.array([0 if value<1.0 else Qs_SI[i] for i,value in enumerate(windspd_array)])\n",
    "        Qs_SI = np.array([0 if value<0.3 else Qs_SI[i] for i,value in enumerate(windspd_array/airtemp_array)])\n",
    "        \n",
    "        Ql_SI = np.array([0 if value<1.0 else Ql_SI[i] for i,value in enumerate(windspd_array)])\n",
    "        Ql_SI = np.array([0 if value<0.3 else Ql_SI[i] for i,value in enumerate(windspd_array/airtemp_array)])\n",
    "        \n",
    "        \n",
    "        Qs_SI = np.array([0 if math.isnan(x) else x for x in Qs_SI])\n",
    "        Ql_SI = np.array([0 if math.isnan(x) else x for x in Ql_SI])\n",
    "        \n",
    "        Qs_SI = np.array([0 if x<0 else x for x in Qs_SI])\n",
    "        Ql_SI = np.array([0 if x<0 else x for x in Ql_SI])\n",
    "        \n",
    "        L       = (1.225*(u_star**3)*((((airtemp_array-(lapse_rate*(elevation-met_stat_elevation)))+273.16)+273.16)/2)*spehtair)/(0.4*9.81*Qs_SI) \n",
    "        z_L     = 2/L\n",
    "        \n",
    "        diff = np.nansum(np.abs(Qs_old-Qs_SI))        \n",
    "        Qs_old = Qs_SI\n",
    "    \n",
    "        k=k+1\n",
    "    \n",
    "    shf_array = Qs_SI*0.0107784\n",
    "    lhf_array = Ql_SI*0.0107784\n",
    "        \n",
    "    return shf_array, lhf_array"
   ]
  },
  {
   "cell_type": "code",
   "execution_count": 8,
   "metadata": {
    "extensions": {
     "jupyter_dashboards": {
      "version": 1,
      "views": {
       "grid_default": {
        "col": 6,
        "height": 15,
        "hidden": false,
        "row": 29,
        "width": "960px"
       },
       "report_default": {
        "col": 4,
        "height": 4,
        "hidden": false,
        "row": 10,
        "width": 4
       }
      }
     }
    }
   },
   "outputs": [],
   "source": [
    "def write_data(output_file,slope,aspect,albedo,roughness,lat,long,elevation,lapse_rate,ref_long,summertime,met_stat_elevation,df,swr_array,lwr_array,shf_array,lhf_array):\n",
    "    \n",
    "    time_array = np.asarray(df.time)\n",
    "    day_array  = np.asarray(df.day)\n",
    "    inswrad_array = np.asarray(df.inswrad)\n",
    "    avp_array = np.asarray(df.avp)\n",
    "    airtemp_array = np.asarray(df.airtemp)\n",
    "    windspd_array = np.asarray(df.windspd)\n",
    "    \n",
    "    total_melt = swr_array + lwr_array + shf_array + lhf_array\n",
    "    total_melt = np.array([0 if x<0 else x for x in total_melt])\n",
    "\n",
    "    # Create a workbook and add a worksheet.\n",
    "    \n",
    "    out_str = ''.join(map(str, output_file))\n",
    "    fileList = glob.glob(\"./output*xlsx\")\n",
    "    for filePath in fileList:\n",
    "        os.remove(filePath)\n",
    "        \n",
    "    workbook = xlsxwriter.Workbook(out_str)\n",
    "    worksheet = workbook.add_worksheet()\n",
    "\n",
    "    # Write the site details used for creating the data   \n",
    "    worksheet.write(10, 0, 'Site details')\n",
    "    worksheet.write(11, 0, 'Latitude (deg)')\n",
    "    worksheet.write(12, 0, lat)\n",
    "    worksheet.write(13, 0, 'Longitude (deg)')\n",
    "    worksheet.write(14, 0, long)\n",
    "    worksheet.write(15, 0, 'Slope (deg)')\n",
    "    worksheet.write(16, 0, slope)\n",
    "    worksheet.write(17, 0, 'Aspect (deg)')\n",
    "    worksheet.write(18, 0, aspect)\n",
    "    worksheet.write(19, 0, 'Elevation (m)')\n",
    "    worksheet.write(20, 0, elevation)\n",
    "    worksheet.write(21, 0, 'Albedo ')\n",
    "    worksheet.write(22, 0, albedo)\n",
    "    worksheet.write(23, 0, 'Roughness (m)')\n",
    "    worksheet.write(24, 0, roughness)\n",
    "    worksheet.write(25, 0, 'Met. St. Elevation (m)')\n",
    "    worksheet.write(26, 0, met_stat_elevation)\n",
    "    worksheet.write(27, 0, 'Lapse Rate (deg/m) ')\n",
    "    worksheet.write(28, 0, lapse_rate)\n",
    "    \n",
    "    \n",
    "    # Start from the first cell. Rows and columns are zero indexed.\n",
    "    row = 0\n",
    "    col = 5\n",
    "\n",
    "    worksheet.write(row, col, 'Day')\n",
    "    worksheet.write(row, col+1, 'Time')\n",
    "    worksheet.write(row, col+2, 'Decimal Time')\n",
    "    worksheet.write(row, col+3, 'Incoming SW (W/m^2)')\n",
    "    worksheet.write(row, col+4, 'Vapour pressure (Pa)')\n",
    "    worksheet.write(row, col+5, 'Air temperature (°C)')\n",
    "    worksheet.write(row, col+6, 'Wind Speed (m/s)')\n",
    "    worksheet.write(row, col+7, 'SWR in mm w.e.')\n",
    "    worksheet.write(row, col+8, 'LWR in mm w.e.')\n",
    "    worksheet.write(row, col+9, 'SHF in mm w.e.')\n",
    "    worksheet.write(row, col+10,'LHF in mm w.e.')\n",
    "    worksheet.write(row, col+11,'MLT in mm w.e.')\n",
    "\n",
    "    # Iterate over the data and write it out row by row.\n",
    "    for x in swr_array:\n",
    "        worksheet.write(row+1, col, day_array[row]) # first column is the day\n",
    "        worksheet.write(row+1, col+1, time_array[row]) # first column is the time\n",
    "        worksheet.write(row+1, col+2, day_array[row]+time_array[row]/2400) # first column is the time\n",
    "        worksheet.write(row+1, col+3, inswrad_array[row]) # first column is the time\n",
    "        worksheet.write(row+1, col+4, avp_array[row]) # first column is the time\n",
    "        worksheet.write(row+1, col+5, airtemp_array[row]) # first column is the time\n",
    "        worksheet.write(row+1, col+6, windspd_array[row]) # first column is the time\n",
    "        worksheet.write(row+1, col+7, swr_array[row]) # first column is the time\n",
    "        worksheet.write(row+1, col+8, lwr_array[row]) # first column is the time\n",
    "        worksheet.write(row+1, col+9, shf_array[row]) # first column is the time\n",
    "        worksheet.write(row+1, col+10, lhf_array[row]) # first column is the time\n",
    "        worksheet.write(row+1, col+11, total_melt[row]) # first column is the time\n",
    "        row += 1\n",
    "\n",
    "        \n",
    "    # Write a totals using a formula.\n",
    "    worksheet.write(0, 0, 'Energy Flux Totals in mm w.e.')\n",
    "    worksheet.write(1, 0, 'SWR')\n",
    "    worksheet.write(2, 0, np.sum(swr_array))\n",
    "    \n",
    "    worksheet.write(1, 1, 'LWR')\n",
    "    worksheet.write(2, 1, np.sum(lwr_array))\n",
    "    \n",
    "    \n",
    "    worksheet.write(1, 2, 'SHF')\n",
    "    worksheet.write(2, 2, np.sum(shf_array) )\n",
    "    \n",
    "    \n",
    "    worksheet.write(1, 3, 'LHF')\n",
    "    worksheet.write(2, 3, np.sum(lhf_array))\n",
    "    \n",
    "    \n",
    "    worksheet.write(1, 4, 'MLT')\n",
    "    worksheet.write(2, 4, np.sum(total_melt))\n",
    "\n",
    "    \n",
    "    # Write a totals using a formula.\n",
    "    worksheet.write(4, 0, 'Energy Flux Rates in mm w.e. per day')\n",
    "    worksheet.write(5, 0, 'SWR')\n",
    "    worksheet.write(6, 0, np.sum(swr_array)/2)\n",
    "    \n",
    "    worksheet.write(5, 1, 'LWR')\n",
    "    worksheet.write(6, 1, np.sum(lwr_array)/2)\n",
    "    \n",
    "    worksheet.write(5, 2, 'SHF')\n",
    "    worksheet.write(6, 2, np.sum(shf_array)/2 )\n",
    "\n",
    "    worksheet.write(5, 3, 'LHF')\n",
    "    worksheet.write(6, 3, np.sum(lhf_array)/2)\n",
    "    \n",
    "    worksheet.write(5, 4, 'MLT')\n",
    "    worksheet.write(6, 4, np.sum(total_melt)/2)\n",
    "    \n",
    "    workbook.close()"
   ]
  },
  {
   "cell_type": "markdown",
   "metadata": {},
   "source": [
    "<div style=\"body\"><h3>Model outputs are:</h3>\n",
    "\n",
    "<ul>\n",
    "<li> <B>Shortwave radiation in mm w.e.</B>  (column M)</li>\n",
    "<li> <B>Longwave radiation in mm w.e.</B>  (column N)</li>\n",
    "<li> <B>Sensible heat flux in mm w.e.</B>  (column O)</li>\n",
    "<li> <B>Latent heat flux in mm w.e.</B>  (column P)</li>\n",
    "<li> <B>Total melt in mm w.e.</B>  (column Q)</li>\n",
    "</ul>\n",
    "\n",
    "In addition, totals of these quantities over the data period (A3-E3) and per day (A7-E7) are calculated and provided in the output file as well. \n",
    "\n",
    "<h3>Run the model:</h3></div>"
   ]
  },
  {
   "cell_type": "code",
   "execution_count": 9,
   "metadata": {
    "extensions": {
     "jupyter_dashboards": {
      "version": 1,
      "views": {
       "grid_default": {
        "col": 6,
        "height": 15,
        "hidden": false,
        "row": 29,
        "width": "960px"
       },
       "report_default": {
        "col": 4,
        "height": 4,
        "hidden": false,
        "row": 10,
        "width": 4
       }
      }
     }
    }
   },
   "outputs": [],
   "source": [
    "def getvalue(x): \n",
    "    return x\n",
    "\n",
    "# Make user interface\n",
    "\n",
    "style = {'description_width': '170px'}\n",
    "w1 = interactive(getvalue, x=ipw.BoundedFloatText(\n",
    "    value=3.0,\n",
    "    min=0,\n",
    "    max=90.0,\n",
    "    step=0.1,\n",
    "    description='Slope in degrees:',\n",
    "    style=style,\n",
    "    disabled=False\n",
    "))\n",
    "#display(w1)\n",
    "\n",
    "w2 = interactive(getvalue, x=ipw.BoundedFloatText(\n",
    "    value=90,\n",
    "    min=0,\n",
    "    max=360.0,\n",
    "    step=0.1,\n",
    "    description='Aspect in degrees:',\n",
    "    style=style,\n",
    "    disabled=False\n",
    "))\n",
    "#display(w2)\n",
    "\n",
    "\n",
    "w3 = interactive(getvalue, x=ipw.BoundedFloatText(\n",
    "    value=0.31,\n",
    "    min=0,\n",
    "    max=1.0,\n",
    "    step=0.01,\n",
    "    description='Albedo:',\n",
    "    style=style,\n",
    "    disabled=False\n",
    "))\n",
    "#display(w3)\n",
    "\n",
    "w4 = interactive(getvalue, x=ipw.BoundedFloatText(\n",
    "    value=0.005,\n",
    "    min=0,\n",
    "    max=1.0,\n",
    "    step=0.0001,\n",
    "    description='Roughness in m:',\n",
    "    style=style,\n",
    "    disabled=False\n",
    "))\n",
    "#display(w4)\n",
    "\n",
    "w5 = interactive(getvalue, x=ipw.BoundedFloatText(\n",
    "    value=63.5,\n",
    "    min=0,\n",
    "    max=90.0,\n",
    "    step=0.1,\n",
    "    description='Latitude in degrees:',\n",
    "    style=style,\n",
    "    disabled=False\n",
    "))\n",
    "#display(w5)\n",
    "\n",
    "w6 = interactive(getvalue, x=ipw.BoundedFloatText(\n",
    "    value=-19.5,\n",
    "    min=-90,\n",
    "    max=90.0,\n",
    "    step=0.1,\n",
    "    description='Longitude in degrees:',\n",
    "    style=style,\n",
    "    disabled=False\n",
    "))\n",
    "#display(w6)\n",
    "\n",
    "w7 = interactive(getvalue, x=ipw.BoundedFloatText(\n",
    "    value=300.0,\n",
    "    min=0,\n",
    "    max=5000.0,\n",
    "    step=0.1,\n",
    "    description='Elevation in m:',\n",
    "    style=style,\n",
    "    disabled=False\n",
    "))\n",
    "#display(w7)\n",
    "\n",
    "w8 = interactive(getvalue, x=ipw.BoundedFloatText(\n",
    "    value=0.0065,\n",
    "    min=0,\n",
    "    max=1.0,\n",
    "    step=0.0001,\n",
    "    description='Lapse rate in deg/m:',\n",
    "    style=style,\n",
    "    disabled=False\n",
    "))\n",
    "#display(w8)"
   ]
  },
  {
   "cell_type": "code",
   "execution_count": 10,
   "metadata": {
    "extensions": {
     "jupyter_dashboards": {
      "version": 1,
      "views": {
       "grid_default": {
        "col": 6,
        "height": 15,
        "hidden": false,
        "row": 29,
        "width": "960px"
       },
       "report_default": {
        "col": 4,
        "height": 4,
        "hidden": false,
        "row": 10,
        "width": 4
       }
      }
     }
    }
   },
   "outputs": [
    {
     "data": {
      "application/vnd.jupyter.widget-view+json": {
       "model_id": "03df20184e824a399ad333c842dd203c",
       "version_major": 2,
       "version_minor": 0
      },
      "text/plain": [
       "HBox(children=(VBox(children=(interactive(children=(BoundedFloatText(value=3.0, description='Slope in degrees:…"
      ]
     },
     "metadata": {},
     "output_type": "display_data"
    }
   ],
   "source": [
    "left_box  = ipw.VBox([w1, w2, w3, w4])\n",
    "right_box = ipw.VBox([w5, w6, w7, w8])\n",
    "ipw.HBox([left_box,right_box])\n"
   ]
  },
  {
   "cell_type": "code",
   "execution_count": 11,
   "metadata": {
    "extensions": {
     "jupyter_dashboards": {
      "version": 1,
      "views": {
       "grid_default": {
        "col": 6,
        "height": 15,
        "hidden": false,
        "row": 29,
        "width": "960px"
       },
       "report_default": {
        "col": 4,
        "height": 4,
        "hidden": false,
        "row": 10,
        "width": 4
       }
      }
     }
    }
   },
   "outputs": [
    {
     "data": {
      "application/vnd.jupyter.widget-view+json": {
       "model_id": "83c4f5bd79864e5b9f034ad7c0387a6b",
       "version_major": 2,
       "version_minor": 0
      },
      "text/plain": [
       "Button(description='Run the model!', style=ButtonStyle())"
      ]
     },
     "metadata": {},
     "output_type": "display_data"
    },
    {
     "data": {
      "application/vnd.jupyter.widget-view+json": {
       "model_id": "af4e88397732485cb4a6a364184c2951",
       "version_major": 2,
       "version_minor": 0
      },
      "text/plain": [
       "Output()"
      ]
     },
     "metadata": {},
     "output_type": "display_data"
    }
   ],
   "source": [
    "# Loading the input parameters defined by the user\n",
    "button = ipw.Button(description=\"Run the model!\")\n",
    "output = ipw.Output()\n",
    "\n",
    "display(button, output)\n",
    "\n",
    "global iter\n",
    "iter=0\n",
    "\n",
    "def on_button_clicked(b):\n",
    "    with output:\n",
    "        clear_output(wait=True)\n",
    "        print(\"Loading values and running the model.\")\n",
    "        slope=w1.result\n",
    "        aspect=w2.result\n",
    "        albedo=w3.result\n",
    "        roughness=w4.result\n",
    "        \n",
    "        lat=w5.result\n",
    "        long=w6.result\n",
    "        elevation=w7.result\n",
    "        lapse_rate=w8.result\n",
    "    \n",
    "        ref_long=0.0\n",
    "        summertime=0.0\n",
    "        met_stat_elevation=300.0\n",
    "        \n",
    "        global iter\n",
    "        iter=iter+1 \n",
    "\n",
    "        output_file=list('./output0.xlsx')\n",
    "        output_file[8]=str(iter)\n",
    "        \n",
    "        print('The slope is %.1f, the aspect is %.1f, the albedo is %.4f, and the roughness is %.4f.' % (slope,aspect,albedo,roughness))\n",
    "        \n",
    "        data_in=read_data()\n",
    "        [swr_array,cloudn] = calcule_swr(slope,aspect,albedo,lat,long,elevation,lapse_rate,ref_long,summertime,met_stat_elevation,data_in)\n",
    "        lwr_array = calcule_lwr(slope,aspect,albedo,lat,long,elevation,lapse_rate,ref_long,summertime,met_stat_elevation,data_in,cloudn)\n",
    "        [shf_array, lhf_array]=calculat_turb_flx(slope,aspect,roughness,lat,long,elevation,lapse_rate,ref_long,summertime,met_stat_elevation,data_in,cloudn)\n",
    "        \n",
    "        write_data(output_file,slope,aspect,albedo,roughness,lat,long,elevation,lapse_rate,ref_long,summertime,met_stat_elevation,data_in,swr_array,lwr_array,shf_array, lhf_array)\n",
    "        #display(running_time)\n",
    "        \n",
    "        local_file = FileLink(''.join(map(str, output_file)), result_html_prefix=\"Click here to download: \")\n",
    "        display(local_file)\n",
    "        \n",
    "button.on_click(on_button_clicked)"
   ]
  }
 ],
 "metadata": {
  "extensions": {
   "jupyter_dashboards": {
    "activeView": "report_default",
    "version": 1,
    "views": {
     "grid_default": {
      "cellMargin": 10,
      "defaultCellHeight": 20,
      "maxColumns": 12,
      "name": "grid",
      "type": "grid"
     },
     "report_default": {
      "name": "report",
      "type": "report"
     }
    }
   }
  },
  "kernelspec": {
   "display_name": "Python 3",
   "language": "python",
   "name": "python3"
  },
  "language_info": {
   "codemirror_mode": {
    "name": "ipython",
    "version": 3
   },
   "file_extension": ".py",
   "mimetype": "text/x-python",
   "name": "python",
   "nbconvert_exporter": "python",
   "pygments_lexer": "ipython3",
   "version": "3.7.4"
  }
 },
 "nbformat": 4,
 "nbformat_minor": 4
}
